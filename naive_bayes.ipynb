{
 "cells": [
  {
   "cell_type": "code",
   "execution_count": 1,
   "metadata": {},
   "outputs": [],
   "source": [
    "import utils as utils\n",
    "from nltk.classify import NaiveBayesClassifier"
   ]
  },
  {
   "cell_type": "code",
   "execution_count": 2,
   "metadata": {},
   "outputs": [],
   "source": [
    "DATA_FILE_PATH = 'data.json'"
   ]
  },
  {
   "cell_type": "code",
   "execution_count": 3,
   "metadata": {},
   "outputs": [
    {
     "name": "stdout",
     "output_type": "stream",
     "text": [
      "Training set size:  8000\n",
      "Test set size:  2000\n",
      "Sample tokenized review:  ['Great', 'atmosphere', '.', 'And', 'great', 'burger', 'the', 'Fondu', 'burger', 'was', 'rediculous', '.', 'The', 'servers', 'are', \"n't\", 'bad', 'to', 'look', 'at', 'either', '.']\n",
      "Sample rating:  5\n"
     ]
    }
   ],
   "source": [
    "train_tups, test_tups = utils.split_data(utils.generate_tuples_from_file(DATA_FILE_PATH, num_samples=10000), test_size=0.2)\n",
    "\n",
    "print('Training set size: ', len(train_tups[0]))\n",
    "print('Test set size: ', len(test_tups[0]))\n",
    "print('Sample tokenized review: ', train_tups[0][0])\n",
    "print('Sample rating: ', train_tups[1][0])"
   ]
  },
  {
   "cell_type": "code",
   "execution_count": 4,
   "metadata": {},
   "outputs": [],
   "source": [
    "def word_feats(list_of_words) -> dict:    \n",
    "    return dict([(word, True) for word in list_of_words])\n",
    "\n",
    "def word_feats_mult(list_of_words) -> dict:\n",
    "    return dict([(word, list_of_words.count(word)) for word in list_of_words])"
   ]
  },
  {
   "cell_type": "code",
   "execution_count": 5,
   "metadata": {},
   "outputs": [],
   "source": [
    "labeled_feature_sets = []\n",
    "for i in range(len(train_tups[0])):\n",
    "    feature_set = word_feats(train_tups[0][i])\n",
    "    _class = train_tups[1][i]\n",
    "    labeled_feature_sets.append((feature_set, _class))\n",
    "\n",
    "classifier = NaiveBayesClassifier.train(labeled_featuresets=labeled_feature_sets)"
   ]
  },
  {
   "cell_type": "code",
   "execution_count": 6,
   "metadata": {},
   "outputs": [
    {
     "name": "stdout",
     "output_type": "stream",
     "text": [
      "Rating prediction:  1\n"
     ]
    }
   ],
   "source": [
    "unseen_review = word_feats('The food was absolutely terrible. I would never eat there.')\n",
    "rating_prediction = classifier.classify(unseen_review)\n",
    "\n",
    "print('Rating prediction: ', rating_prediction)"
   ]
  }
 ],
 "metadata": {
  "kernelspec": {
   "display_name": "Python 3",
   "language": "python",
   "name": "python3"
  },
  "language_info": {
   "codemirror_mode": {
    "name": "ipython",
    "version": 3
   },
   "file_extension": ".py",
   "mimetype": "text/x-python",
   "name": "python",
   "nbconvert_exporter": "python",
   "pygments_lexer": "ipython3",
   "version": "3.11.5"
  }
 },
 "nbformat": 4,
 "nbformat_minor": 2
}
