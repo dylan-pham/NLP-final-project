{
 "cells": [
  {
   "cell_type": "code",
   "execution_count": 32,
   "metadata": {},
   "outputs": [],
   "source": [
    "import utils as utils\n",
    "from nltk.classify import NaiveBayesClassifier"
   ]
  },
  {
   "cell_type": "code",
   "execution_count": 33,
   "metadata": {},
   "outputs": [],
   "source": [
    "DATA_FILE_PATH = 'data.json'"
   ]
  },
  {
   "cell_type": "code",
   "execution_count": 34,
   "metadata": {},
   "outputs": [
    {
     "name": "stdout",
     "output_type": "stream",
     "text": [
      "Training set size:  7\n",
      "Test set size:  2\n",
      "Sample tokenized review:  ['Cute', 'interior', 'and', 'owner', '(', '?', ')', 'gave', 'us', 'tour', 'of', 'upcoming', 'patio/rooftop', 'area', 'which', 'will', 'be', 'great', 'on', 'beautiful', 'days', 'like', 'today', '.', 'Cheese', 'curds', 'were', 'very', 'good', 'and', 'very', 'filling', '.', 'Really', 'like', 'that', 'sandwiches', 'come', 'w', 'salad', ',', 'esp', 'after', 'eating', 'too', 'many', 'curds', '!', 'Had', 'the', 'onion', ',', 'gruyere', ',', 'tomato', 'sandwich', '.', 'Was', \"n't\", 'too', 'much', 'cheese', 'which', 'I', 'liked', '.', 'Needed', 'something', 'else', '...', 'pepper', 'jelly', 'maybe', '.', 'Would', 'like', 'to', 'see', 'more', 'menu', 'options', 'added', 'such', 'as', 'salads', 'w', 'fun', 'cheeses', '.', 'Lots', 'of', 'beer', 'and', 'wine', 'as', 'well', 'as', 'limited', 'cocktails', '.', 'Next', 'time', 'I', 'will', 'try', 'one', 'of', 'the', 'draft', 'wines', '.']\n",
      "Sample rating:  4\n"
     ]
    }
   ],
   "source": [
    "train_tups, test_tups = utils.split_data(utils.generate_tuples_from_file(DATA_FILE_PATH), test_size=0.2)\n",
    "\n",
    "print('Training set size: ', len(train_tups[0]))\n",
    "print('Test set size: ', len(test_tups[0]))\n",
    "print('Sample tokenized review: ', train_tups[0][0])\n",
    "print('Sample rating: ', train_tups[1][0])"
   ]
  },
  {
   "cell_type": "code",
   "execution_count": 35,
   "metadata": {},
   "outputs": [],
   "source": [
    "def word_feats(list_of_words) -> dict:    \n",
    "    return dict([(word, True) for word in list_of_words])\n",
    "\n",
    "def word_feats_mult(list_of_words) -> dict:\n",
    "    return dict([(word, list_of_words.count(word)) for word in list_of_words])"
   ]
  },
  {
   "cell_type": "code",
   "execution_count": 36,
   "metadata": {},
   "outputs": [],
   "source": [
    "labeled_feature_sets = []\n",
    "for i in range(len(train_tups[0])):\n",
    "    feature_set = word_feats(train_tups[0][i])\n",
    "    _class = train_tups[1][i]\n",
    "    labeled_feature_sets.append((feature_set, _class))\n",
    "\n",
    "classifier = NaiveBayesClassifier.train(labeled_featuresets=labeled_feature_sets)"
   ]
  },
  {
   "cell_type": "code",
   "execution_count": 37,
   "metadata": {},
   "outputs": [
    {
     "ename": "AttributeError",
     "evalue": "'NaiveBayesClassifier' object has no attribute 'copy'",
     "output_type": "error",
     "traceback": [
      "\u001b[0;31m---------------------------------------------------------------------------\u001b[0m",
      "\u001b[0;31mAttributeError\u001b[0m                            Traceback (most recent call last)",
      "\u001b[1;32m/Users/dpham/Code/NLP-final-project/naive_bayes.ipynb Cell 6\u001b[0m line \u001b[0;36m2\n\u001b[1;32m      <a href='vscode-notebook-cell:/Users/dpham/Code/NLP-final-project/naive_bayes.ipynb#W5sZmlsZQ%3D%3D?line=0'>1</a>\u001b[0m unseen_review \u001b[39m=\u001b[39m word_feats_mult(\u001b[39m'\u001b[39m\u001b[39mThe food was absolutely terrible.\u001b[39m\u001b[39m'\u001b[39m)\n\u001b[0;32m----> <a href='vscode-notebook-cell:/Users/dpham/Code/NLP-final-project/naive_bayes.ipynb#W5sZmlsZQ%3D%3D?line=1'>2</a>\u001b[0m rating_prediction \u001b[39m=\u001b[39m classifier\u001b[39m.\u001b[39;49mclassify(classifier)\n\u001b[1;32m      <a href='vscode-notebook-cell:/Users/dpham/Code/NLP-final-project/naive_bayes.ipynb#W5sZmlsZQ%3D%3D?line=3'>4</a>\u001b[0m \u001b[39mprint\u001b[39m(\u001b[39m'\u001b[39m\u001b[39mRating prediction: \u001b[39m\u001b[39m'\u001b[39m, rating_prediction)\n",
      "File \u001b[0;32m/opt/homebrew/lib/python3.11/site-packages/nltk/classify/naivebayes.py:89\u001b[0m, in \u001b[0;36mNaiveBayesClassifier.classify\u001b[0;34m(self, featureset)\u001b[0m\n\u001b[1;32m     88\u001b[0m \u001b[39mdef\u001b[39;00m \u001b[39mclassify\u001b[39m(\u001b[39mself\u001b[39m, featureset):\n\u001b[0;32m---> 89\u001b[0m     \u001b[39mreturn\u001b[39;00m \u001b[39mself\u001b[39;49m\u001b[39m.\u001b[39;49mprob_classify(featureset)\u001b[39m.\u001b[39mmax()\n",
      "File \u001b[0;32m/opt/homebrew/lib/python3.11/site-packages/nltk/classify/naivebayes.py:95\u001b[0m, in \u001b[0;36mNaiveBayesClassifier.prob_classify\u001b[0;34m(self, featureset)\u001b[0m\n\u001b[1;32m     91\u001b[0m \u001b[39mdef\u001b[39;00m \u001b[39mprob_classify\u001b[39m(\u001b[39mself\u001b[39m, featureset):\n\u001b[1;32m     92\u001b[0m     \u001b[39m# Discard any feature names that we've never seen before.\u001b[39;00m\n\u001b[1;32m     93\u001b[0m     \u001b[39m# Otherwise, we'll just assign a probability of 0 to\u001b[39;00m\n\u001b[1;32m     94\u001b[0m     \u001b[39m# everything.\u001b[39;00m\n\u001b[0;32m---> 95\u001b[0m     featureset \u001b[39m=\u001b[39m featureset\u001b[39m.\u001b[39;49mcopy()\n\u001b[1;32m     96\u001b[0m     \u001b[39mfor\u001b[39;00m fname \u001b[39min\u001b[39;00m \u001b[39mlist\u001b[39m(featureset\u001b[39m.\u001b[39mkeys()):\n\u001b[1;32m     97\u001b[0m         \u001b[39mfor\u001b[39;00m label \u001b[39min\u001b[39;00m \u001b[39mself\u001b[39m\u001b[39m.\u001b[39m_labels:\n",
      "\u001b[0;31mAttributeError\u001b[0m: 'NaiveBayesClassifier' object has no attribute 'copy'"
     ]
    }
   ],
   "source": [
    "unseen_review = word_feats_mult('The food was absolutely terrible.')\n",
    "rating_prediction = classifier.classify(classifier)\n",
    "\n",
    "print('Rating prediction: ', rating_prediction)"
   ]
  }
 ],
 "metadata": {
  "kernelspec": {
   "display_name": "Python 3",
   "language": "python",
   "name": "python3"
  },
  "language_info": {
   "codemirror_mode": {
    "name": "ipython",
    "version": 3
   },
   "file_extension": ".py",
   "mimetype": "text/x-python",
   "name": "python",
   "nbconvert_exporter": "python",
   "pygments_lexer": "ipython3",
   "version": "3.11.5"
  }
 },
 "nbformat": 4,
 "nbformat_minor": 2
}
