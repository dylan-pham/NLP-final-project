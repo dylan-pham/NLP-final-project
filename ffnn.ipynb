{
 "cells": [
  {
   "cell_type": "code",
   "execution_count": 1,
   "metadata": {},
   "outputs": [],
   "source": [
    "import utils as utils\n",
    "from gensim.models.doc2vec import Doc2Vec, TaggedDocument"
   ]
  },
  {
   "cell_type": "code",
   "execution_count": 2,
   "metadata": {},
   "outputs": [],
   "source": [
    "DATA_FILE_PATH = 'data.json'"
   ]
  },
  {
   "cell_type": "code",
   "execution_count": 3,
   "metadata": {},
   "outputs": [
    {
     "name": "stdout",
     "output_type": "stream",
     "text": [
      "Training set size:  8000\n",
      "Test set size:  2000\n",
      "Sample tokenized review:  ['If', 'you', 'are', 'hip', 'and', 'into', 'Mid-Century', 'Modern', 'goods', '-', 'and', 'being', 'green', ',', 'you', 'have', 'to', 'check', 'out', 'TFA', '.', 'It', 'is', 'like', 'a', 'big', 'ball', 'of', 'Mid-Century', 'Furniture', ',', 'Clothing', ',', 'Jewelry', 'and', 'what-cha-ma-call-its', 'all', 'in', 'one', 'place', '.', 'It', 'is', 'a', 'great', 'place', 'if', 'you', 'are', 'looking', 'for', 'that', 'truly', 'unique', 'gift', '.', 'We', 'have', 'purchased', 'several', 'items', 'and', 'we', 'love', 'visiting', '!', 'They', 'are', 'super', 'nice', 'and', 'very', 'helpful', '.', 'It', \"'s\", 'too', 'bad', 'my', 'friends', 'in', 'Cali', 'ca', \"n't\", 'enjoy', 'this', 'place', '-', 'they', 'would', 'eat', 'it', 'up', '.']\n",
      "Sample rating:  5\n"
     ]
    }
   ],
   "source": [
    "train_tups, test_tups = utils.split_data(utils.generate_tuples_from_file(DATA_FILE_PATH, num_samples=10000), test_size=0.2)\n",
    "\n",
    "print('Training set size: ', len(train_tups[0]))\n",
    "print('Test set size: ', len(test_tups[0]))\n",
    "print('Sample tokenized review: ', train_tups[0][0])\n",
    "print('Sample rating: ', train_tups[1][0])"
   ]
  },
  {
   "cell_type": "code",
   "execution_count": 4,
   "metadata": {},
   "outputs": [],
   "source": [
    "# implement FFNN with doc2vec embeddings as input\n",
    "\n",
    "tagged_docs = [TaggedDocument(doc, [i]) for i, doc in enumerate(train_tups[0])]\n",
    "d2v_model = Doc2Vec(tagged_docs, vector_size=100, window=2, min_count=1, workers=4)\n",
    "\n",
    "vectors = [d2v_model.dv[i] for i in range(len(tagged_docs))]"
   ]
  },
  {
   "cell_type": "code",
   "execution_count": 5,
   "metadata": {},
   "outputs": [
    {
     "name": "stdout",
     "output_type": "stream",
     "text": [
      "Model: \"sequential\"\n",
      "_________________________________________________________________\n",
      " Layer (type)                Output Shape              Param #   \n",
      "=================================================================\n",
      " dense (Dense)               (None, 100)               10100     \n",
      "                                                                 \n",
      " dropout (Dropout)           (None, 100)               0         \n",
      "                                                                 \n",
      " dense_1 (Dense)             (None, 50)                5050      \n",
      "                                                                 \n",
      " dropout_1 (Dropout)         (None, 50)                0         \n",
      "                                                                 \n",
      " dense_2 (Dense)             (None, 5)                 255       \n",
      "                                                                 \n",
      "=================================================================\n",
      "Total params: 15405 (60.18 KB)\n",
      "Trainable params: 15405 (60.18 KB)\n",
      "Non-trainable params: 0 (0.00 Byte)\n",
      "_________________________________________________________________\n"
     ]
    }
   ],
   "source": [
    "from keras.models import Sequential\n",
    "from keras.layers import Dense, Dropout\n",
    "from keras.optimizers import SGD\n",
    "from keras.metrics import Recall, Precision, F1Score\n",
    "\n",
    "input_dim = 100\n",
    "\n",
    "model = Sequential()\n",
    "model.add(Dense(100, activation='relu', input_shape=(input_dim,)))  \n",
    "model.add(Dropout(0.5))\n",
    "model.add(Dense(50, activation='relu'))\n",
    "model.add(Dropout(0.5))\n",
    "\n",
    "\n",
    "# put in an output layer\n",
    "model.add(Dense(5, activation='softmax'))\n",
    "\n",
    "model.summary()\n",
    "sgd = SGD(learning_rate=.01)\n",
    "recall = Recall()\n",
    "precision = Precision()\n",
    "f1_score = F1Score()\n",
    "\n",
    "# call compile here\n",
    "model.compile(optimizer='adam', loss='categorical_crossentropy', metrics=['accuracy', recall, precision, f1_score])"
   ]
  },
  {
   "cell_type": "code",
   "execution_count": 7,
   "metadata": {},
   "outputs": [
    {
     "name": "stdout",
     "output_type": "stream",
     "text": [
      "Epoch 1/20\n",
      " 1/16 [>.............................] - ETA: 0s - loss: 1.4765 - accuracy: 0.3780 - recall: 0.0480 - precision: 0.3582 - f1_score: 0.1438"
     ]
    },
    {
     "name": "stdout",
     "output_type": "stream",
     "text": [
      "16/16 [==============================] - 0s 7ms/step - loss: 1.3887 - accuracy: 0.4359 - recall: 0.1146 - precision: 0.5413 - f1_score: 0.1796\n",
      "Epoch 2/20\n",
      "16/16 [==============================] - 0s 7ms/step - loss: 1.3213 - accuracy: 0.4520 - recall: 0.1596 - precision: 0.6098 - f1_score: 0.2159\n",
      "Epoch 3/20\n",
      "16/16 [==============================] - 0s 8ms/step - loss: 1.2773 - accuracy: 0.4746 - recall: 0.2071 - precision: 0.6236 - f1_score: 0.2516\n",
      "Epoch 4/20\n",
      "16/16 [==============================] - 0s 8ms/step - loss: 1.2405 - accuracy: 0.4865 - recall: 0.2371 - precision: 0.6441 - f1_score: 0.2814\n",
      "Epoch 5/20\n",
      "16/16 [==============================] - 0s 8ms/step - loss: 1.2153 - accuracy: 0.4895 - recall: 0.2636 - precision: 0.6544 - f1_score: 0.2938\n",
      "Epoch 6/20\n",
      "16/16 [==============================] - 0s 10ms/step - loss: 1.1930 - accuracy: 0.4994 - recall: 0.2777 - precision: 0.6637 - f1_score: 0.3148\n",
      "Epoch 7/20\n",
      "16/16 [==============================] - 0s 9ms/step - loss: 1.1789 - accuracy: 0.5077 - recall: 0.2854 - precision: 0.6560 - f1_score: 0.3275\n",
      "Epoch 8/20\n",
      "16/16 [==============================] - 0s 10ms/step - loss: 1.1720 - accuracy: 0.5066 - recall: 0.2930 - precision: 0.6665 - f1_score: 0.3320\n",
      "Epoch 9/20\n",
      "16/16 [==============================] - 0s 9ms/step - loss: 1.1586 - accuracy: 0.5225 - recall: 0.3004 - precision: 0.6703 - f1_score: 0.3578\n",
      "Epoch 10/20\n",
      "16/16 [==============================] - 0s 10ms/step - loss: 1.1567 - accuracy: 0.5210 - recall: 0.3036 - precision: 0.6768 - f1_score: 0.3597\n",
      "Epoch 11/20\n",
      "16/16 [==============================] - 0s 13ms/step - loss: 1.1435 - accuracy: 0.5241 - recall: 0.3144 - precision: 0.6763 - f1_score: 0.3633\n",
      "Epoch 12/20\n",
      "16/16 [==============================] - 0s 16ms/step - loss: 1.1390 - accuracy: 0.5293 - recall: 0.3085 - precision: 0.6699 - f1_score: 0.3701\n",
      "Epoch 13/20\n",
      "16/16 [==============================] - 0s 14ms/step - loss: 1.1340 - accuracy: 0.5279 - recall: 0.3185 - precision: 0.6746 - f1_score: 0.3725\n",
      "Epoch 14/20\n",
      "16/16 [==============================] - 0s 20ms/step - loss: 1.1296 - accuracy: 0.5288 - recall: 0.3229 - precision: 0.6801 - f1_score: 0.3785\n",
      "Epoch 15/20\n",
      "16/16 [==============================] - 0s 15ms/step - loss: 1.1248 - accuracy: 0.5379 - recall: 0.3264 - precision: 0.6755 - f1_score: 0.3902\n",
      "Epoch 16/20\n",
      "16/16 [==============================] - 0s 22ms/step - loss: 1.1270 - accuracy: 0.5300 - recall: 0.3198 - precision: 0.6852 - f1_score: 0.3829\n",
      "Epoch 17/20\n",
      "16/16 [==============================] - 0s 17ms/step - loss: 1.1167 - accuracy: 0.5390 - recall: 0.3322 - precision: 0.6877 - f1_score: 0.3882\n",
      "Epoch 18/20\n",
      "16/16 [==============================] - 0s 16ms/step - loss: 1.1120 - accuracy: 0.5422 - recall: 0.3339 - precision: 0.6819 - f1_score: 0.3989\n",
      "Epoch 19/20\n",
      "16/16 [==============================] - 0s 12ms/step - loss: 1.1019 - accuracy: 0.5379 - recall: 0.3371 - precision: 0.6892 - f1_score: 0.3860\n",
      "Epoch 20/20\n",
      "16/16 [==============================] - 0s 14ms/step - loss: 1.0976 - accuracy: 0.5477 - recall: 0.3405 - precision: 0.6867 - f1_score: 0.4006\n"
     ]
    }
   ],
   "source": [
    "import tensorflow as tf\n",
    "import numpy as np\n",
    "\n",
    "# Convert input data to NumPy arrays\n",
    "vectors_np = np.array(vectors)\n",
    "train_tups_np = train_tups[1]\n",
    "train_tups_np = utils.get_one_hot_encodings(train_tups_np)\n",
    "\n",
    "# Create a tf.data.Dataset from the input and output vectors\n",
    "dataset = tf.data.Dataset.from_tensor_slices((vectors_np, train_tups_np))\n",
    "\n",
    "# Repeat the dataset indefinitely\n",
    "dataset = dataset.repeat()\n",
    "\n",
    "# Batch the data\n",
    "batch_size=500\n",
    "dataset = dataset.batch(batch_size)\n",
    "\n",
    "# Fit the model\n",
    "steps_per_epoch = len(vectors_np) // batch_size\n",
    "history = model.fit(dataset, epochs=20, batch_size=500, steps_per_epoch=steps_per_epoch)"
   ]
  },
  {
   "cell_type": "code",
   "execution_count": 9,
   "metadata": {},
   "outputs": [
    {
     "name": "stdout",
     "output_type": "stream",
     "text": [
      "1/1 [==============================] - 0s 34ms/step\n",
      "Predicted rating:  1\n"
     ]
    }
   ],
   "source": [
    "review_to_predict = \"The food was awful.\"\n",
    "vectors_np = np.array([d2v_model.infer_vector(review_to_predict.split(' '))])\n",
    "prob_distribution = model.predict(vectors_np)\n",
    "\n",
    "print('Predicted rating: ', np.argmax(prob_distribution) + 1)"
   ]
  },
  {
   "cell_type": "code",
   "execution_count": 10,
   "metadata": {},
   "outputs": [
    {
     "name": "stdout",
     "output_type": "stream",
     "text": [
      "1/1 [==============================] - 0s 55ms/step\n",
      "Predicted rating:  5\n"
     ]
    }
   ],
   "source": [
    "review_to_predict = \"The waiter was nice. The food was warm and delicious. I would definitely come back again.\"\n",
    "vectors_np = np.array([d2v_model.infer_vector(review_to_predict.split(' '))])\n",
    "prob_distribution = model.predict(vectors_np)\n",
    "\n",
    "print('Predicted rating: ', np.argmax(prob_distribution) + 1)\n",
    "\n"
   ]
  },
  {
   "cell_type": "code",
   "execution_count": 26,
   "metadata": {},
   "outputs": [
    {
     "name": "stdout",
     "output_type": "stream",
     "text": [
      "20\n"
     ]
    },
    {
     "data": {
      "image/png": "[encoded data removed]",
      "text/plain": [
       "<Figure size 640x480 with 1 Axes>"
      ]
     },
     "metadata": {},
     "output_type": "display_data"
    }
   ],
   "source": [
    "import matplotlib.pyplot as plt\n",
    "train_accuracy = history.history['accuracy']\n",
    "f1_scores = history.history['f1_score']\n",
    "recall_scores = history.history['recall']\n",
    "precisions = history.history['precision']\n",
    "\n",
    "averagedF1ScoresList = []\n",
    "for f1_score_list in f1_scores:\n",
    "    average = sum(f1_score_list)/5\n",
    "    averagedF1ScoresList.append(average)\n",
    "\n",
    "print(len(averagedF1ScoresList))\n",
    "\n",
    "\n",
    "epochs = range(1, len(train_accuracy) + 1)\n",
    "plt.plot(epochs, train_accuracy, label='Training Accuracy')\n",
    "plt.plot(epochs, recall_scores, label='Recall')\n",
    "plt.plot(epochs, precisions, label='Precision')\n",
    "plt.plot(epochs, averagedF1ScoresList, label='F1 Scores')\n",
    "plt.ylim(0, 1)\n",
    "plt.xlabel('Epochs')\n",
    "plt.ylabel('Accuracy')\n",
    "plt.title('Metrics throughout Training in FFNN')\n",
    "plt.xticks(range(1,21,1))\n",
    "plt.legend()\n",
    "plt.show()"
   ]
  }
 ],
 "metadata": {
  "kernelspec": {
   "display_name": "Python 3",
   "language": "python",
   "name": "python3"
  },
  "language_info": {
   "codemirror_mode": {
    "name": "ipython",
    "version": 3
   },
   "file_extension": ".py",
   "mimetype": "text/x-python",
   "name": "python",
   "nbconvert_exporter": "python",
   "pygments_lexer": "ipython3",
   "version": "3.11.5"
  }
 },
 "nbformat": 4,
 "nbformat_minor": 2
}
